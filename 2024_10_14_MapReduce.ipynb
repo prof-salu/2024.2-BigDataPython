{
  "nbformat": 4,
  "nbformat_minor": 0,
  "metadata": {
    "colab": {
      "provenance": []
    },
    "kernelspec": {
      "name": "python3",
      "display_name": "Python 3"
    },
    "language_info": {
      "name": "python"
    }
  },
  "cells": [
    {
      "cell_type": "code",
      "execution_count": null,
      "metadata": {
        "id": "6uer5u39jLAK"
      },
      "outputs": [],
      "source": [
        "!pip install mrjob"
      ]
    },
    {
      "cell_type": "code",
      "source": [
        "%%file ContaPalavras.py\n",
        "from mrjob.job import MRJob\n",
        "import re\n",
        "\n",
        "class ContaPalavras(MRJob):\n",
        "  def mapper(self, _, linha):\n",
        "    palavra_regex = re.compile(r\"[\\w']+\")\n",
        "    for p in palavra_regex.findall(linha):\n",
        "      yield(p.lower(), 1)\n",
        "\n",
        "  def reducer(self, p, qtd):\n",
        "    yield p, sum(qtd)\n",
        "\n",
        "if __name__ == '__main__':\n",
        "     ContaPalavras.run()"
      ],
      "metadata": {
        "colab": {
          "base_uri": "https://localhost:8080/"
        },
        "id": "DwkYTvEg2ihP",
        "outputId": "844227f3-86ea-4978-b93e-a2685528940f"
      },
      "execution_count": 32,
      "outputs": [
        {
          "output_type": "stream",
          "name": "stdout",
          "text": [
            "Overwriting ContaPalavras.py\n"
          ]
        }
      ]
    },
    {
      "cell_type": "code",
      "source": [
        "!python ContaPalavras.py '/content/texto_exemplo.txt' > qtd.txt"
      ],
      "metadata": {
        "id": "5Uhlgv5G2mWj"
      },
      "execution_count": null,
      "outputs": []
    }
  ]
}