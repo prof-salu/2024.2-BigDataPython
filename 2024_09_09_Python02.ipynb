{
  "nbformat": 4,
  "nbformat_minor": 0,
  "metadata": {
    "colab": {
      "provenance": []
    },
    "kernelspec": {
      "name": "python3",
      "display_name": "Python 3"
    },
    "language_info": {
      "name": "python"
    }
  },
  "cells": [
    {
      "cell_type": "markdown",
      "source": [
        "#Listas"
      ],
      "metadata": {
        "id": "2kJMEdES6qsR"
      }
    },
    {
      "cell_type": "code",
      "execution_count": null,
      "metadata": {
        "colab": {
          "base_uri": "https://localhost:8080/"
        },
        "id": "iKr2x5_NyYaW",
        "outputId": "be1ca0c5-5958-49a0-9afe-7f156a25a08f"
      },
      "outputs": [
        {
          "output_type": "stream",
          "name": "stdout",
          "text": [
            "['Gol', 'Uno', 'Fox', 'Corolla', 'Onix']\n",
            "[7, 6, 5, 4, 3, 2, 1]\n",
            "['Predador', 1234, True, 34, 'Rio de Janeiro']\n"
          ]
        }
      ],
      "source": [
        "#Listas\n",
        "#São sequencias de dados mutáveis\n",
        "#Muito parecidos com os arrays [index]\n",
        "#Os dados de uma lista são sempre ordenados\n",
        "\n",
        "#criando uma lista de carros\n",
        "\n",
        "carros = ['Gol', 'Uno', 'Fox', 'Corolla', 'Onix']\n",
        "numeros = [7,6,5,4,3,2,1]\n",
        "coisas = ['Predador', 1234, True, 34, 'Rio de Janeiro']\n",
        "\n",
        "#exibindo a lista\n",
        "print(carros)\n",
        "print(numeros)\n",
        "print(coisas)"
      ]
    },
    {
      "cell_type": "code",
      "source": [
        "#Acessando um determinado valor da lista\n",
        "print(carros[3])\n",
        "\n",
        "carros[1] = 'Uno Mile'\n",
        "print(carros)"
      ],
      "metadata": {
        "colab": {
          "base_uri": "https://localhost:8080/"
        },
        "id": "ydVHmjha0S5s",
        "outputId": "d1d05f25-d6e9-40b7-81c7-ea74546d2ef7"
      },
      "execution_count": null,
      "outputs": [
        {
          "output_type": "stream",
          "name": "stdout",
          "text": [
            "Corolla\n",
            "['Gol', 'Uno Mile', 'Fox', 'Corolla', 'Onix']\n"
          ]
        }
      ]
    },
    {
      "cell_type": "code",
      "source": [
        "#obetendo uma posição de um elemento(index)\n",
        "print(carros.index('Onix'))"
      ],
      "metadata": {
        "colab": {
          "base_uri": "https://localhost:8080/"
        },
        "id": "3kjwZ2iH0vtr",
        "outputId": "6ae86951-ac7a-4728-87ac-d01a302ba11b"
      },
      "execution_count": null,
      "outputs": [
        {
          "output_type": "stream",
          "name": "stdout",
          "text": [
            "4\n"
          ]
        }
      ]
    },
    {
      "cell_type": "code",
      "source": [
        "#Percorrendo uma lista forma1\n",
        "for carro in carros:\n",
        "  print(f'Carro: {carro}')"
      ],
      "metadata": {
        "colab": {
          "base_uri": "https://localhost:8080/"
        },
        "id": "9_zbtrQl08eX",
        "outputId": "833cd070-7192-41d8-b407-e5450b38ab37"
      },
      "execution_count": null,
      "outputs": [
        {
          "output_type": "stream",
          "name": "stdout",
          "text": [
            "Carro: Gol\n",
            "Carro: Uno Mile\n",
            "Carro: Fox\n",
            "Carro: Corolla\n",
            "Carro: Onix\n"
          ]
        }
      ]
    },
    {
      "cell_type": "code",
      "source": [
        "#Percorrendo uma lista forma2\n",
        "for carro in carros:\n",
        "  print('{} Carro: {}'.format('#', carro))"
      ],
      "metadata": {
        "colab": {
          "base_uri": "https://localhost:8080/"
        },
        "id": "Jb_Ba_BK1O2q",
        "outputId": "1eb96c6b-a7fe-49dc-cb81-8e8e86b869e1"
      },
      "execution_count": null,
      "outputs": [
        {
          "output_type": "stream",
          "name": "stdout",
          "text": [
            "# Carro: Gol\n",
            "# Carro: Uno Mile\n",
            "# Carro: Fox\n",
            "# Carro: Corolla\n",
            "# Carro: Onix\n"
          ]
        }
      ]
    },
    {
      "cell_type": "code",
      "source": [
        "#Percorrendo uma lista forma3\n",
        "for carro in carros:\n",
        "  print('Carro:', carro)"
      ],
      "metadata": {
        "colab": {
          "base_uri": "https://localhost:8080/"
        },
        "id": "MoBI_AnV1qVO",
        "outputId": "2732bf8f-3343-4472-8926-14658042d6f0"
      },
      "execution_count": null,
      "outputs": [
        {
          "output_type": "stream",
          "name": "stdout",
          "text": [
            "Carro: Gol\n",
            "Carro: Uno Mile\n",
            "Carro: Fox\n",
            "Carro: Corolla\n",
            "Carro: Onix\n"
          ]
        }
      ]
    },
    {
      "cell_type": "code",
      "source": [
        "#Percorrendo uma lista forma4\n",
        "for x in range(len(carros)):\n",
        "  print(f'{x+1}- Carro: {carros[x]}')"
      ],
      "metadata": {
        "colab": {
          "base_uri": "https://localhost:8080/"
        },
        "id": "ItbkC6Mw2AMB",
        "outputId": "42eb24d4-d388-4230-e733-ebf99b89d3fc"
      },
      "execution_count": null,
      "outputs": [
        {
          "output_type": "stream",
          "name": "stdout",
          "text": [
            "1- Carro: Gol\n",
            "2- Carro: Uno Mile\n",
            "3- Carro: Fox\n",
            "4- Carro: Corolla\n",
            "5- Carro: Onix\n"
          ]
        }
      ]
    },
    {
      "cell_type": "code",
      "source": [
        "#Metodos/funções com listas\n",
        "carros = ['Gol', 'Uno', 'Fox', 'Corolla', 'Onix']\n",
        "numeros = [7,6,5,4,3,2,1]\n",
        "\n",
        "#Descobrir o tamanho da lista\n",
        "print(len(carros))\n",
        "\n",
        "#Ordenando uma lista\n",
        "carros.sort()\n",
        "numeros.sort()\n",
        "print(carros)\n",
        "print(numeros)"
      ],
      "metadata": {
        "colab": {
          "base_uri": "https://localhost:8080/"
        },
        "id": "_oPW_Odt2RCD",
        "outputId": "98650c0b-eeab-4f0c-d4eb-e7480fe7ecab"
      },
      "execution_count": null,
      "outputs": [
        {
          "output_type": "stream",
          "name": "stdout",
          "text": [
            "5\n",
            "['Corolla', 'Fox', 'Gol', 'Onix', 'Uno']\n",
            "[1, 2, 3, 4, 5, 6, 7]\n"
          ]
        }
      ]
    },
    {
      "cell_type": "code",
      "source": [
        "#adicionando itens a lista\n",
        "\n",
        "#append() --> adiciona no final da lista\n",
        "carros.append('Cronos')\n",
        "print(carros)"
      ],
      "metadata": {
        "colab": {
          "base_uri": "https://localhost:8080/"
        },
        "id": "ZNDin3gb2zZy",
        "outputId": "c8525e53-40ab-48a0-d2b9-b4a0ea10d4ec"
      },
      "execution_count": null,
      "outputs": [
        {
          "output_type": "stream",
          "name": "stdout",
          "text": [
            "['Corolla', 'Fox', 'Gol', 'Onix', 'Uno', 'Cronos']\n"
          ]
        }
      ]
    },
    {
      "cell_type": "code",
      "source": [
        "#adicionando itens a lista\n",
        "\n",
        "#insert() --> adiciona um item em uma posição\n",
        "carros.insert(3, 'Renegade')\n",
        "print(carros)"
      ],
      "metadata": {
        "colab": {
          "base_uri": "https://localhost:8080/"
        },
        "id": "AJvhJxyn3Jrp",
        "outputId": "b7cf188a-8248-45fe-8515-8d3778aa669d"
      },
      "execution_count": null,
      "outputs": [
        {
          "output_type": "stream",
          "name": "stdout",
          "text": [
            "['Corolla', 'Fox', 'Gol', 'Renegade', 'Onix', 'Uno', 'Cronos']\n"
          ]
        }
      ]
    },
    {
      "cell_type": "code",
      "source": [
        "#adicionando itens a lista\n",
        "\n",
        "#extend() --> adiciona mais de um item no final da lista\n",
        "novos_carros = ['Fusca', 'kombi', 'Saveiro']\n",
        "carros.extend(novos_carros)\n",
        "print(carros)"
      ],
      "metadata": {
        "colab": {
          "base_uri": "https://localhost:8080/"
        },
        "id": "6oREKM3-3qpY",
        "outputId": "d742d512-8161-41fd-bad4-e08901342d23"
      },
      "execution_count": null,
      "outputs": [
        {
          "output_type": "stream",
          "name": "stdout",
          "text": [
            "['Corolla', 'Fox', 'Gol', 'Renegade', 'Onix', 'Uno', 'Cronos', 'Fusca', 'kombi', 'Saveiro']\n"
          ]
        }
      ]
    },
    {
      "cell_type": "code",
      "source": [
        "#removendo itens da lista\n",
        "#clear() --> remove todos os itens da lista\n",
        "carros = ['Gol', 'Uno', 'Fox', 'Corolla', 'Onix']\n",
        "carros.clear()\n",
        "print(carros)\n",
        "\n",
        "#pop() --> remove e retorna o ultimo elemento\n",
        "carros = ['Gol', 'Uno', 'Fox', 'Corolla', 'Onix']\n",
        "carro_removido = carros.pop()\n",
        "print(carro_removido)\n",
        "print(carros)\n",
        "\n",
        "\n",
        "#del --> remove um item baseado na posição\n",
        "carros = ['Gol', 'Uno', 'Fox', 'Corolla', 'Onix']\n",
        "del carros[3]\n",
        "print(carros)\n",
        "\n",
        "#set() --> Usado para remover elementos duplicados\n",
        "#*o comando set cria um conjunto*\n",
        "carros = ['Gol', 'Uno', 'Fox', 'Corolla', 'Gol', 'Fox','Onix']\n",
        "print(set(carros))"
      ],
      "metadata": {
        "colab": {
          "base_uri": "https://localhost:8080/"
        },
        "id": "dIK8mpPM4DgO",
        "outputId": "2543e985-9c79-4eeb-f2f7-7a06484afeff"
      },
      "execution_count": null,
      "outputs": [
        {
          "output_type": "stream",
          "name": "stdout",
          "text": [
            "[]\n",
            "Onix\n",
            "['Gol', 'Uno', 'Fox', 'Corolla']\n",
            "['Gol', 'Uno', 'Fox', 'Onix']\n",
            "{'Uno', 'Onix', 'Gol', 'Fox', 'Corolla'}\n"
          ]
        }
      ]
    },
    {
      "cell_type": "code",
      "source": [
        "#seleções com listas\n",
        "carros = ['Gol', 'Uno', 'Fox', 'Corolla', 'Onix']\n",
        "\n",
        "#item na terceira posição\n",
        "print(carros[2])\n",
        "\n",
        "#acessando um intervalo na lista.\n",
        "#O valor maximo não é retornando\n",
        "print(carros[0:3])\n",
        "\n",
        "#retorna o ultimo valor da lista\n",
        "print(carros[-1])\n",
        "\n",
        "#Verificar a existencia de um item\n",
        "print('Ferrari' in carros) #False\n",
        "print('Gol' in carros) #True"
      ],
      "metadata": {
        "colab": {
          "base_uri": "https://localhost:8080/"
        },
        "id": "xgot-jxO5lqx",
        "outputId": "364163bb-eb53-408d-e567-0cb739c1233c"
      },
      "execution_count": null,
      "outputs": [
        {
          "output_type": "stream",
          "name": "stdout",
          "text": [
            "Fox\n",
            "['Gol', 'Uno', 'Fox']\n",
            "Onix\n",
            "True\n",
            "True\n"
          ]
        }
      ]
    },
    {
      "cell_type": "markdown",
      "source": [
        "#Tuplas"
      ],
      "metadata": {
        "id": "wg82Rtyb6uC_"
      }
    },
    {
      "cell_type": "code",
      "source": [
        "#Uma tupla é imutável, ou seja não permite modificações\n",
        "\n",
        "#declarando uma tupla\n",
        "mega_sena = (11, 17, 23, 39, 41, 57)\n",
        "\n",
        "mega_sena[1] = 12 #erro"
      ],
      "metadata": {
        "id": "gqeDTdWs6xAn"
      },
      "execution_count": null,
      "outputs": []
    },
    {
      "cell_type": "code",
      "source": [
        "mega_sena = (11, 17, 23, 39, 41, 57)\n",
        "\n",
        "print(mega_sena)"
      ],
      "metadata": {
        "colab": {
          "base_uri": "https://localhost:8080/"
        },
        "id": "EKIOVr2W7XHW",
        "outputId": "77888de3-cbe4-4865-fe14-98ddbd985d1c"
      },
      "execution_count": null,
      "outputs": [
        {
          "output_type": "stream",
          "name": "stdout",
          "text": [
            "(11, 17, 23, 39, 41, 57)\n"
          ]
        }
      ]
    },
    {
      "cell_type": "code",
      "source": [
        "letras = ('A', 'B', 'C', 'D', 'E', 'F')\n",
        "\n",
        "#acessando um item pela posição\n",
        "print(letras[5])\n",
        "\n",
        "#Selecionando o ultimo item\n",
        "print(letras[-1])\n",
        "\n",
        "#Selecionando o intervalo\n",
        "print(letras[3:6])\n",
        "\n",
        "#selecionando os 3 primeiros elementos\n",
        "print(letras[:3])"
      ],
      "metadata": {
        "colab": {
          "base_uri": "https://localhost:8080/"
        },
        "id": "e4VBr7eB7fBN",
        "outputId": "97594a4d-ea98-4e3f-f41c-c0d100645fcc"
      },
      "execution_count": null,
      "outputs": [
        {
          "output_type": "stream",
          "name": "stdout",
          "text": [
            "F\n",
            "F\n",
            "('D', 'E', 'F')\n",
            "('A', 'B', 'C')\n"
          ]
        }
      ]
    },
    {
      "cell_type": "code",
      "source": [
        "filmes = ('Predador', 'Exterminado do futuro', 'Commando')\n",
        "#verificando a existencia de elementos\n",
        "print('Commando' in filmes)\n",
        "print('Titanic' in filmes)"
      ],
      "metadata": {
        "colab": {
          "base_uri": "https://localhost:8080/"
        },
        "id": "08upf3st8Ikx",
        "outputId": "7ebdf346-7098-4fe4-b70e-d27dba5106b9"
      },
      "execution_count": null,
      "outputs": [
        {
          "output_type": "stream",
          "name": "stdout",
          "text": [
            "True\n",
            "False\n"
          ]
        }
      ]
    },
    {
      "cell_type": "code",
      "source": [
        "#Obtendo a psoição de um item\n",
        "print(filmes.index('Predador'))"
      ],
      "metadata": {
        "colab": {
          "base_uri": "https://localhost:8080/"
        },
        "id": "irRjP5iv8YR7",
        "outputId": "a8e7ca60-9f36-479c-9fe6-09c387424955"
      },
      "execution_count": null,
      "outputs": [
        {
          "output_type": "stream",
          "name": "stdout",
          "text": [
            "0\n"
          ]
        }
      ]
    },
    {
      "cell_type": "code",
      "source": [
        "#Percorrendo uma tupla\n",
        "for filme in filmes:\n",
        "  print(f'Filme -- > {filme}')"
      ],
      "metadata": {
        "colab": {
          "base_uri": "https://localhost:8080/"
        },
        "id": "o-N5O9JZ8j_r",
        "outputId": "3edf64ba-dc5e-4840-c519-220ce4f8b9bf"
      },
      "execution_count": null,
      "outputs": [
        {
          "output_type": "stream",
          "name": "stdout",
          "text": [
            "Filme -- > Predador\n",
            "Filme -- > Exterminado do futuro\n",
            "Filme -- > Commando\n"
          ]
        }
      ]
    },
    {
      "cell_type": "markdown",
      "source": [
        "#Dicionários"
      ],
      "metadata": {
        "id": "jb1U2PQl80MT"
      }
    },
    {
      "cell_type": "code",
      "source": [
        "# Um dicionarioé uma estrutura que permite armazenar dados\n",
        "# no formato chave:valor\n",
        "\n",
        "#Declarando um dicionario\n",
        "\n",
        "pessoa = {\n",
        "    'nome' : 'Francisco',\n",
        "    'idade' : 33,\n",
        "    'profissao' : 'Mecanico',\n",
        "    'fumante' : False,\n",
        "    'filhos' : ['Ana', 'Gabi']\n",
        "}\n",
        "\n",
        "#exibindo o dicionario\n",
        "print(pessoa)"
      ],
      "metadata": {
        "colab": {
          "base_uri": "https://localhost:8080/"
        },
        "id": "eOO5DC1B83Fb",
        "outputId": "45f82a42-66b1-4b83-ea8b-6e046a7c953b"
      },
      "execution_count": null,
      "outputs": [
        {
          "output_type": "stream",
          "name": "stdout",
          "text": [
            "{'nome': 'Francisco', 'idade': 33, 'profissao': 'Mecanico', 'fumante': False, 'filhos': ['Ana', 'Gabi']}\n"
          ]
        }
      ]
    },
    {
      "cell_type": "code",
      "source": [
        "#acessando uma propriedade do dicionario\n",
        "print(pessoa['profissao'])"
      ],
      "metadata": {
        "colab": {
          "base_uri": "https://localhost:8080/"
        },
        "id": "V1T7SjTr9-Oc",
        "outputId": "be40f4e5-5a29-4a81-ccd3-04660068840d"
      },
      "execution_count": null,
      "outputs": [
        {
          "output_type": "stream",
          "name": "stdout",
          "text": [
            "Mecanico\n"
          ]
        }
      ]
    },
    {
      "cell_type": "code",
      "source": [
        "#adicionando novas propriedades em um dicionario\n",
        "pessoa['cidade'] = 'Piaui'\n",
        "print(pessoa)"
      ],
      "metadata": {
        "colab": {
          "base_uri": "https://localhost:8080/"
        },
        "id": "L0H-tt7N-Z1b",
        "outputId": "57c05dd9-2e89-4168-f849-9c395bc6768e"
      },
      "execution_count": null,
      "outputs": [
        {
          "output_type": "stream",
          "name": "stdout",
          "text": [
            "{'nome': 'Francisco', 'idade': 33, 'profissao': 'Mecanico', 'fumante': False, 'filhos': ['Ana', 'Gabi'], 'cidade': 'Piaui'}\n"
          ]
        }
      ]
    },
    {
      "cell_type": "code",
      "source": [
        "#Alterar uma propriedade\n",
        "pessoa['filhos'] = ['Ana', 'Gabi', 'Gigi']\n",
        "print(pessoa)\n",
        "\n",
        "pessoa['filhos'].append('João')\n",
        "print(pessoa)\n",
        "\n",
        "pessoa['idade'] += 1\n",
        "print(pessoa)"
      ],
      "metadata": {
        "colab": {
          "base_uri": "https://localhost:8080/"
        },
        "id": "9nAT3Y1j-rym",
        "outputId": "514de0f4-79c4-416a-8b40-d26eec82418a"
      },
      "execution_count": null,
      "outputs": [
        {
          "output_type": "stream",
          "name": "stdout",
          "text": [
            "{'nome': 'Francisco', 'idade': 33, 'profissao': 'Mecanico', 'filhos': ['Ana', 'Gabi', 'Gigi'], 'cidade': 'Piaui'}\n",
            "{'nome': 'Francisco', 'idade': 33, 'profissao': 'Mecanico', 'filhos': ['Ana', 'Gabi', 'Gigi', 'João'], 'cidade': 'Piaui'}\n",
            "{'nome': 'Francisco', 'idade': 34, 'profissao': 'Mecanico', 'filhos': ['Ana', 'Gabi', 'Gigi', 'João'], 'cidade': 'Piaui'}\n"
          ]
        }
      ]
    },
    {
      "cell_type": "code",
      "source": [
        "#removendo uma propriedade do dicionario\n",
        "del pessoa['fumante']\n",
        "print(pessoa)"
      ],
      "metadata": {
        "colab": {
          "base_uri": "https://localhost:8080/"
        },
        "id": "ReZgQZmU-76Q",
        "outputId": "12ea229a-3247-447a-a6ce-d223f7dcca05"
      },
      "execution_count": null,
      "outputs": [
        {
          "output_type": "stream",
          "name": "stdout",
          "text": [
            "{'nome': 'Francisco', 'idade': 33, 'profissao': 'Mecanico', 'filhos': ['Ana', 'Gabi', 'Gigi'], 'cidade': 'Piaui'}\n"
          ]
        }
      ]
    },
    {
      "cell_type": "code",
      "source": [
        "#Percorrendo um dicionario\n",
        "for dado in pessoa.keys():\n",
        "  print(f'{dado}: {pessoa[dado]}')"
      ],
      "metadata": {
        "colab": {
          "base_uri": "https://localhost:8080/"
        },
        "id": "h-O6kDIc_FSq",
        "outputId": "6e8629cc-76be-40de-d91b-5cfb8b49f9dd"
      },
      "execution_count": null,
      "outputs": [
        {
          "output_type": "stream",
          "name": "stdout",
          "text": [
            "nome: Francisco\n",
            "profissao: Mecanico\n",
            "filhos: ['Ana', 'Gabi', 'Gigi', 'João']\n",
            "cidade: Piaui\n",
            "aniversario: 23/11/1990\n"
          ]
        }
      ]
    },
    {
      "cell_type": "code",
      "source": [
        "#métodos/funções com dicionários\n",
        "\n",
        "#update() --> adiciona uma propriedade\n",
        "pessoa.update({'aniversario':'23/11/1990'})\n",
        "print(pessoa)"
      ],
      "metadata": {
        "colab": {
          "base_uri": "https://localhost:8080/"
        },
        "id": "gjtDU32p_fwA",
        "outputId": "994c3ffb-1f2a-439c-d486-2ed009ce4bcf"
      },
      "execution_count": null,
      "outputs": [
        {
          "output_type": "stream",
          "name": "stdout",
          "text": [
            "{'nome': 'Francisco', 'idade': 34, 'profissao': 'Mecanico', 'filhos': ['Ana', 'Gabi', 'Gigi', 'João'], 'cidade': 'Piaui', 'aniversario': '23/11/1990'}\n",
            "Francisco\n"
          ]
        }
      ]
    },
    {
      "cell_type": "code",
      "source": [
        "#get() --> retorna o valor da chave\n",
        "print(pessoa.get('nome'))"
      ],
      "metadata": {
        "colab": {
          "base_uri": "https://localhost:8080/"
        },
        "id": "CNlGI6h4Aded",
        "outputId": "04910067-0142-4699-d861-29eb9c37d53a"
      },
      "execution_count": null,
      "outputs": [
        {
          "output_type": "stream",
          "name": "stdout",
          "text": [
            "Francisco\n"
          ]
        }
      ]
    },
    {
      "cell_type": "code",
      "source": [
        "#pop() --> remove uma propriedade\n",
        "pessoa.pop('idade')\n",
        "print(pessoa)"
      ],
      "metadata": {
        "colab": {
          "base_uri": "https://localhost:8080/"
        },
        "id": "ybRfSmB0AeMM",
        "outputId": "7dfa7c05-db47-4d58-f906-f9e9d4155e83"
      },
      "execution_count": null,
      "outputs": [
        {
          "output_type": "stream",
          "name": "stdout",
          "text": [
            "{'nome': 'Francisco', 'profissao': 'Mecanico', 'filhos': ['Ana', 'Gabi', 'Gigi', 'João'], 'cidade': 'Piaui', 'aniversario': '23/11/1990'}\n"
          ]
        }
      ]
    },
    {
      "cell_type": "code",
      "source": [
        "#popitem() --> remove e retorna a ultima propriedade\n",
        "print(pessoa)\n",
        "item_removido = pessoa.popitem()\n",
        "print(item_removido)\n",
        "print(pessoa)"
      ],
      "metadata": {
        "colab": {
          "base_uri": "https://localhost:8080/"
        },
        "id": "O6GFum7AA01r",
        "outputId": "adabfa28-c1d5-4302-a9ac-2fa195c0034e"
      },
      "execution_count": null,
      "outputs": [
        {
          "output_type": "stream",
          "name": "stdout",
          "text": [
            "{'nome': 'Francisco', 'profissao': 'Mecanico', 'filhos': ['Ana', 'Gabi', 'Gigi', 'João'], 'cidade': 'Piaui', 'aniversario': '23/11/1990'}\n",
            "('aniversario', '23/11/1990')\n",
            "{'nome': 'Francisco', 'profissao': 'Mecanico', 'filhos': ['Ana', 'Gabi', 'Gigi', 'João'], 'cidade': 'Piaui'}\n"
          ]
        }
      ]
    },
    {
      "cell_type": "code",
      "source": [
        "#clear() --> apaga todos os dados\n",
        "pessoa.clear()\n",
        "print(pessoa)"
      ],
      "metadata": {
        "colab": {
          "base_uri": "https://localhost:8080/"
        },
        "id": "z-yI3DhmBKE_",
        "outputId": "3a1885d7-5645-49e1-b0ae-4e63c796e30e"
      },
      "execution_count": null,
      "outputs": [
        {
          "output_type": "stream",
          "name": "stdout",
          "text": [
            "{}\n"
          ]
        }
      ]
    },
    {
      "cell_type": "code",
      "source": [
        "pessoa = {\n",
        "    'nome' : 'Francisco',\n",
        "    'idade' : 33,\n",
        "    'profissao' : 'Mecanico',\n",
        "    'fumante' : False,\n",
        "    'filhos' : ['Ana', 'Gabi']\n",
        "}\n",
        "\n",
        "#values() --> retorna todos os valores\n",
        "print(pessoa.values())\n",
        "\n",
        "#keys() --> retorna todos as chaves\n",
        "print(pessoa.keys())\n",
        "\n",
        "#items() --> retorna todos os pares de chave e valor\n",
        "print(pessoa.items())"
      ],
      "metadata": {
        "id": "-tvCIStLBUZy"
      },
      "execution_count": null,
      "outputs": []
    }
  ]
}