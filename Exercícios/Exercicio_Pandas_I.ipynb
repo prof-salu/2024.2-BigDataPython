{
  "cells": [
    {
      "cell_type": "markdown",
      "metadata": {
        "id": "nCLOyCUirDzt"
      },
      "source": [
        "#Importando a bilbioteca do pandas"
      ]
    },
    {
      "cell_type": "code",
      "execution_count": null,
      "metadata": {
        "id": "KBfL1BKGrIog"
      },
      "outputs": [],
      "source": []
    },
    {
      "cell_type": "markdown",
      "metadata": {
        "id": "6NxyNAsaq83M"
      },
      "source": [
        "#Criando um DataFrame\n",
        "\n",
        "Crie um DataFrame chamado “dados” com três colunas: “Nome”, “Idade” e “Cidade”. Preencha com os dados a seguir:\n",
        "\n",
        "**Nome: Carlos, Juca, Mauro, Ana, Eva;**\n",
        "\n",
        "**Idade: 25, 30, 22, 35, 18;**\n",
        "\n",
        "**Cidade: São Paulo, Rio de Janeiro, São Paulo, Belo Horizonte, Porto Alegre;**"
      ]
    },
    {
      "cell_type": "code",
      "execution_count": null,
      "metadata": {
        "id": "6T7K7P7Rq561"
      },
      "outputs": [],
      "source": []
    },
    {
      "cell_type": "markdown",
      "metadata": {
        "id": "ht2LOzSzrCkO"
      },
      "source": [
        "#Acessando Dados\n",
        "Exiba as primeiras 5 linhas do nosso DataFrame “dados”."
      ]
    },
    {
      "cell_type": "code",
      "execution_count": null,
      "metadata": {
        "id": "Tql1uIh1rgN9"
      },
      "outputs": [],
      "source": []
    },
    {
      "cell_type": "markdown",
      "metadata": {
        "id": "QIalLfZKrhtp"
      },
      "source": [
        "#Filtrando Dados\n",
        "\n",
        "Crie um novo DataFrame chamado “maiores_de_idade” que contém apenas as pessoas com idade maior ou igual a 18."
      ]
    },
    {
      "cell_type": "code",
      "execution_count": null,
      "metadata": {
        "id": "LM0RnaeZsJsI"
      },
      "outputs": [],
      "source": []
    },
    {
      "cell_type": "markdown",
      "metadata": {
        "id": "B_02nJwHsL5Y"
      },
      "source": [
        "#Ordenando Dados\n",
        "\n",
        "Ordene o DataFrame “dados” por idade em ordem decrescente."
      ]
    },
    {
      "cell_type": "code",
      "execution_count": null,
      "metadata": {
        "id": "hHuZdTcvsUqn"
      },
      "outputs": [],
      "source": []
    },
    {
      "cell_type": "markdown",
      "metadata": {
        "id": "fGPI57h9sVGP"
      },
      "source": [
        "#Agregação de Dados\n",
        "Calcule a média de idade das pessoas no DataFrame “dados”."
      ]
    },
    {
      "cell_type": "code",
      "execution_count": null,
      "metadata": {
        "id": "PaZKGtbZsZ0o"
      },
      "outputs": [],
      "source": []
    },
    {
      "cell_type": "markdown",
      "metadata": {
        "id": "dNK5gJAIsaFw"
      },
      "source": [
        "#Adicionando uma Nova Coluna\n",
        "\n",
        "Adicione uma coluna chamada “Estado” e preenchendo com valores abaixo:\n",
        "\n",
        "Estado: SP, RJ, SP, MG, RS"
      ]
    },
    {
      "cell_type": "code",
      "execution_count": null,
      "metadata": {
        "id": "tECUSV_StIZz"
      },
      "outputs": [],
      "source": []
    },
    {
      "cell_type": "markdown",
      "metadata": {
        "id": "gnEMyL_GtI3O"
      },
      "source": [
        "#Removendo Colunas\n",
        "\n",
        "Remova a coluna “Cidade”."
      ]
    },
    {
      "cell_type": "code",
      "execution_count": null,
      "metadata": {
        "id": "swf9q5iStN3_"
      },
      "outputs": [],
      "source": []
    },
    {
      "cell_type": "markdown",
      "metadata": {
        "id": "Keh-v4CBtOGT"
      },
      "source": [
        "#Consultas Condicionais\n",
        "\n",
        "Selecione todas as pessoas no DataFrame “dados” que vivem no estado “SP”."
      ]
    },
    {
      "cell_type": "code",
      "execution_count": null,
      "metadata": {
        "id": "9ZBnIvxxtlOJ"
      },
      "outputs": [],
      "source": []
    },
    {
      "cell_type": "markdown",
      "metadata": {
        "id": "gvpDVVoytlk5"
      },
      "source": [
        "#Contagem de Valores\n",
        "\n",
        "Contar quantas pessoas no DataFrame “dados” têm a mesma idade."
      ]
    },
    {
      "cell_type": "code",
      "execution_count": null,
      "metadata": {
        "id": "Ax1CHOYKtsn4"
      },
      "outputs": [],
      "source": []
    },
    {
      "cell_type": "markdown",
      "metadata": {
        "id": "XowY7EIHts8w"
      },
      "source": [
        "#Substituição de Valores\n",
        "\n",
        "Substituir todas as ocorrências do estado RJ por Rio de Janeiro no DataFrame “dados”."
      ]
    },
    {
      "cell_type": "code",
      "execution_count": null,
      "metadata": {
        "id": "TuwTKwYnt5eY"
      },
      "outputs": [],
      "source": []
    },
    {
      "cell_type": "markdown",
      "metadata": {
        "id": "NGocyiJct7Sp"
      },
      "source": [
        "#Resumo Estatístico\n",
        "Exibir o resumo estatístico do DataFrame “dados” que inclui contagem, média, desvio padrão, mínimo e máximo das idades."
      ]
    },
    {
      "cell_type": "code",
      "execution_count": null,
      "metadata": {
        "id": "JsXL7cvWuBmC"
      },
      "outputs": [],
      "source": []
    },
    {
      "cell_type": "markdown",
      "metadata": {
        "id": "RNi_SqQQuPlv"
      },
      "source": [
        "#Filtros Avançados I\n",
        "\n",
        "Selecionar as pessoas com idade entre 25 e 35 anos e que vivem no “Rio de Janeiro”."
      ]
    },
    {
      "cell_type": "code",
      "execution_count": null,
      "metadata": {
        "id": "TXDNj8DkuPsD"
      },
      "outputs": [],
      "source": []
    },
    {
      "cell_type": "markdown",
      "metadata": {
        "id": "gfoBOcNIu1N-"
      },
      "source": [
        "#Filtros Avançados II\n",
        "\n",
        "Selecionar as pessoas que não são dos estados do RJ e SP."
      ]
    },
    {
      "cell_type": "code",
      "execution_count": null,
      "metadata": {
        "id": "Afw9IQAcu2X6"
      },
      "outputs": [],
      "source": []
    },
    {
      "cell_type": "markdown",
      "metadata": {
        "id": "b4yChzD1vz4Z"
      },
      "source": [
        "#Importando a biblioteca pyplot"
      ]
    },
    {
      "cell_type": "code",
      "execution_count": null,
      "metadata": {
        "id": "MZvhJ_3fv33X"
      },
      "outputs": [],
      "source": []
    },
    {
      "cell_type": "markdown",
      "metadata": {
        "id": "saGQpiQuuBf-"
      },
      "source": [
        "#Plotagem de Dados I\n",
        "\n",
        "Crie um gráfico de barras que mostra a contagem de pessoas em cada estado no DataFrame “dados”."
      ]
    },
    {
      "cell_type": "code",
      "execution_count": null,
      "metadata": {
        "id": "q21BHovot7lJ"
      },
      "outputs": [],
      "source": []
    },
    {
      "cell_type": "markdown",
      "metadata": {
        "id": "cVwqB8PZvS_T"
      },
      "source": [
        "#Plotagem de Dados II\n",
        "\n",
        "Crie um gráfico de dispersão que exibirá a idade de pessoas por estado no DataFrame \"dados\"."
      ]
    },
    {
      "cell_type": "code",
      "execution_count": null,
      "metadata": {
        "id": "S5EKxhNpvTGT"
      },
      "outputs": [],
      "source": []
    }
  ],
  "metadata": {
    "colab": {
      "provenance": []
    },
    "kernelspec": {
      "display_name": "Python 3",
      "name": "python3"
    },
    "language_info": {
      "name": "python"
    }
  },
  "nbformat": 4,
  "nbformat_minor": 0
}