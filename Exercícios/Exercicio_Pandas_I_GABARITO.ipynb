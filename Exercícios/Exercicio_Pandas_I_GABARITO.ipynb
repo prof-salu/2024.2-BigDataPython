{
  "cells": [
    {
      "cell_type": "markdown",
      "metadata": {
        "id": "nCLOyCUirDzt"
      },
      "source": [
        "#Importando a bilbioteca do pandas"
      ]
    },
    {
      "cell_type": "code",
      "execution_count": 4,
      "metadata": {
        "id": "KBfL1BKGrIog"
      },
      "outputs": [],
      "source": [
        "import pandas as pd"
      ]
    },
    {
      "cell_type": "markdown",
      "metadata": {
        "id": "6NxyNAsaq83M"
      },
      "source": [
        "#Criando um DataFrame\n",
        "\n",
        "Crie um DataFrame chamado “dados” com três colunas: “Nome”, “Idade” e “Cidade”. Preencha com os dados a seguir:\n",
        "\n",
        "**Nome: Carlos, Juca, Mauro, Ana, Eva;**\n",
        "\n",
        "**Idade: 25, 30, 22, 35, 18;**\n",
        "\n",
        "**Cidade: São Paulo, Rio de Janeiro, São Paulo, Belo Horizonte, Porto Alegre;**"
      ]
    },
    {
      "cell_type": "code",
      "execution_count": 5,
      "metadata": {
        "id": "6T7K7P7Rq561"
      },
      "outputs": [],
      "source": [
        "data = {'Nome': ['Alice', 'Bob', 'Charlie', 'David', 'Eva'],\n",
        "        'Idade': [25, 30, 22, 35, 18],\n",
        "        'Cidade': ['São Paulo', 'Rio de Janeiro', 'São Paulo', 'Belo Horizonte', 'Porto Alegre']}\n",
        "\n",
        "dados = pd.DataFrame(data)\n"
      ]
    },
    {
      "cell_type": "markdown",
      "metadata": {
        "id": "ht2LOzSzrCkO"
      },
      "source": [
        "#Acessando Dados\n",
        "Exiba as primeiras 5 linhas do nosso DataFrame “dados”."
      ]
    },
    {
      "cell_type": "code",
      "execution_count": null,
      "metadata": {
        "id": "Tql1uIh1rgN9"
      },
      "outputs": [],
      "source": [
        "dados.head()"
      ]
    },
    {
      "cell_type": "markdown",
      "metadata": {
        "id": "QIalLfZKrhtp"
      },
      "source": [
        "#Filtrando Dados\n",
        "\n",
        "Crie um novo DataFrame chamado “maiores_de_idade” que contém apenas as pessoas com idade maior ou igual a 18."
      ]
    },
    {
      "cell_type": "code",
      "execution_count": null,
      "metadata": {
        "id": "LM0RnaeZsJsI"
      },
      "outputs": [],
      "source": [
        "#Notação colchetes\n",
        "maiores_de_idade = dados[dados['Idade'] >= 18]\n",
        "display(maiores_de_idade)"
      ]
    },
    {
      "cell_type": "code",
      "execution_count": null,
      "metadata": {},
      "outputs": [],
      "source": [
        "#QUERY\n",
        "maiores_de_idade = dados.query('Idade >= 18')\n",
        "display(maiores_de_idade)"
      ]
    },
    {
      "cell_type": "markdown",
      "metadata": {
        "id": "B_02nJwHsL5Y"
      },
      "source": [
        "#Ordenando Dados\n",
        "\n",
        "Ordene o DataFrame “dados” por idade em ordem decrescente."
      ]
    },
    {
      "cell_type": "code",
      "execution_count": null,
      "metadata": {
        "id": "hHuZdTcvsUqn"
      },
      "outputs": [],
      "source": [
        "dados_ordenados = dados.sort_values(by='Idade', ascending=False)\n",
        "display(dados_ordenados)"
      ]
    },
    {
      "cell_type": "markdown",
      "metadata": {
        "id": "fGPI57h9sVGP"
      },
      "source": [
        "#Agregação de Dados\n",
        "Calcule a média de idade das pessoas no DataFrame “dados”."
      ]
    },
    {
      "cell_type": "code",
      "execution_count": null,
      "metadata": {
        "id": "PaZKGtbZsZ0o"
      },
      "outputs": [],
      "source": [
        "media_idade = dados['Idade'].mean()\n",
        "display(media_idade)"
      ]
    },
    {
      "cell_type": "markdown",
      "metadata": {
        "id": "dNK5gJAIsaFw"
      },
      "source": [
        "#Adicionando uma Nova Coluna\n",
        "\n",
        "Adicione uma coluna chamada “Estado” e preenchendo com valores abaixo:\n",
        "\n",
        "Estado: SP, RJ, SP, MG, RS"
      ]
    },
    {
      "cell_type": "code",
      "execution_count": null,
      "metadata": {
        "id": "tECUSV_StIZz"
      },
      "outputs": [],
      "source": [
        "dados['Estado'] = ['SP', 'RJ', 'SP', 'MG', 'RS']\n",
        "display(dados)"
      ]
    },
    {
      "cell_type": "markdown",
      "metadata": {
        "id": "gnEMyL_GtI3O"
      },
      "source": [
        "#Removendo Colunas\n",
        "\n",
        "Remova a coluna “Cidade”."
      ]
    },
    {
      "cell_type": "code",
      "execution_count": 13,
      "metadata": {
        "id": "swf9q5iStN3_"
      },
      "outputs": [],
      "source": [
        "dados = dados.drop(columns='Cidade')\n"
      ]
    },
    {
      "cell_type": "markdown",
      "metadata": {
        "id": "Keh-v4CBtOGT"
      },
      "source": [
        "#Consultas Condicionais\n",
        "\n",
        "Selecione todas as pessoas no DataFrame “dados” que vivem no estado “SP”."
      ]
    },
    {
      "cell_type": "code",
      "execution_count": null,
      "metadata": {
        "id": "9ZBnIvxxtlOJ"
      },
      "outputs": [],
      "source": [
        "#Notação colchetes\n",
        "pessoas_SP = dados[dados['Estado'] == 'SP']\n",
        "display(pessoas_SP)"
      ]
    },
    {
      "cell_type": "code",
      "execution_count": null,
      "metadata": {},
      "outputs": [],
      "source": [
        "#QUERY\n",
        "pessoas_SP = dados.query('Estado == \"SP\"')\n",
        "display(pessoas_SP)"
      ]
    },
    {
      "cell_type": "markdown",
      "metadata": {
        "id": "gvpDVVoytlk5"
      },
      "source": [
        "#Contagem de Valores\n",
        "\n",
        "Contar quantas pessoas no DataFrame “dados” têm a mesma idade."
      ]
    },
    {
      "cell_type": "code",
      "execution_count": null,
      "metadata": {
        "id": "Ax1CHOYKtsn4"
      },
      "outputs": [],
      "source": [
        "contagem_idades = dados['Idade'].value_counts()\n",
        "display(contagem_idades)"
      ]
    },
    {
      "cell_type": "markdown",
      "metadata": {
        "id": "XowY7EIHts8w"
      },
      "source": [
        "#Substituição de Valores\n",
        "\n",
        "Substituir todas as ocorrências do estado RJ por Rio de Janeiro no DataFrame “dados”."
      ]
    },
    {
      "cell_type": "code",
      "execution_count": null,
      "metadata": {
        "id": "TuwTKwYnt5eY"
      },
      "outputs": [],
      "source": [
        "dados['Estado'].replace('RJ', 'Rio de Janeiro', inplace=True)\n",
        "display(dados)"
      ]
    },
    {
      "cell_type": "markdown",
      "metadata": {
        "id": "NGocyiJct7Sp"
      },
      "source": [
        "#Resumo Estatístico\n",
        "Exibir o resumo estatístico do DataFrame “dados” que inclui contagem, média, desvio padrão, mínimo e máximo das idades."
      ]
    },
    {
      "cell_type": "code",
      "execution_count": null,
      "metadata": {
        "id": "JsXL7cvWuBmC"
      },
      "outputs": [],
      "source": [
        "dados.describe()"
      ]
    },
    {
      "cell_type": "markdown",
      "metadata": {
        "id": "RNi_SqQQuPlv"
      },
      "source": [
        "#Filtros Avançados I\n",
        "\n",
        "Selecionar as pessoas com idade entre 25 e 35 anos e que vivem no “Rio de Janeiro”."
      ]
    },
    {
      "cell_type": "code",
      "execution_count": null,
      "metadata": {
        "id": "TXDNj8DkuPsD"
      },
      "outputs": [],
      "source": [
        "#Notação colchetes\n",
        "filtro_avancado_1 = dados[(dados['Idade'] >= 25) & (dados['Idade'] <= 35) & (dados['Estado'] == 'Rio de Janeiro')]\n",
        "display(filtro_avancado_1)"
      ]
    },
    {
      "cell_type": "code",
      "execution_count": null,
      "metadata": {},
      "outputs": [],
      "source": [
        "#QUERY\n",
        "filtro_avancado_1 = dados.query('Idade >= 25 and Idade <= 35 and Estado == \"Rio de Janeiro\"')\n",
        "display(filtro_avancado_1)"
      ]
    },
    {
      "cell_type": "markdown",
      "metadata": {
        "id": "gfoBOcNIu1N-"
      },
      "source": [
        "#Filtros Avançados II\n",
        "\n",
        "Selecionar as pessoas que não são dos estados do RJ e SP."
      ]
    },
    {
      "cell_type": "code",
      "execution_count": null,
      "metadata": {
        "id": "Afw9IQAcu2X6"
      },
      "outputs": [],
      "source": [
        "#Notação colchetes\n",
        "filtro_avancado_2 = dados[(dados['Estado'] != 'Rio de Janeiro') & (dados['Estado'] != 'SP')]\n",
        "display(filtro_avancado_2)"
      ]
    },
    {
      "cell_type": "code",
      "execution_count": null,
      "metadata": {},
      "outputs": [],
      "source": [
        "#QUERY\n",
        "filtro_avancado_2 = dados.query('Estado != \"Rio de Janeiro\" and Estado != \"SP\"')\n",
        "display(filtro_avancado_2)"
      ]
    },
    {
      "cell_type": "markdown",
      "metadata": {
        "id": "b4yChzD1vz4Z"
      },
      "source": [
        "#Importando a biblioteca pyplot"
      ]
    },
    {
      "cell_type": "code",
      "execution_count": null,
      "metadata": {
        "id": "MZvhJ_3fv33X"
      },
      "outputs": [],
      "source": [
        "import matplotlib.pyplot as plt"
      ]
    },
    {
      "cell_type": "markdown",
      "metadata": {
        "id": "saGQpiQuuBf-"
      },
      "source": [
        "#Plotagem de Dados I\n",
        "\n",
        "Crie um gráfico de barras que mostra a contagem de pessoas em cada estado no DataFrame “dados”."
      ]
    },
    {
      "cell_type": "code",
      "execution_count": null,
      "metadata": {
        "id": "q21BHovot7lJ"
      },
      "outputs": [],
      "source": [
        "contagem_por_estado = dados['Estado'].value_counts()\n",
        "contagem_por_estado.plot(kind='bar')\n",
        "plt.xlabel('Estado')\n",
        "plt.ylabel('Contagem')\n",
        "plt.show()"
      ]
    },
    {
      "cell_type": "markdown",
      "metadata": {
        "id": "cVwqB8PZvS_T"
      },
      "source": [
        "#Plotagem de Dados II\n",
        "\n",
        "Crie um gráfico de dispersão que exibirá a idade de pessoas por estado no DataFrame \"dados\"."
      ]
    },
    {
      "cell_type": "code",
      "execution_count": null,
      "metadata": {
        "id": "S5EKxhNpvTGT"
      },
      "outputs": [],
      "source": [
        "plt.scatter(data['Cidade'], data['Idade'])\n",
        "plt.show()"
      ]
    }
  ],
  "metadata": {
    "colab": {
      "provenance": []
    },
    "kernelspec": {
      "display_name": "Python 3",
      "name": "python3"
    },
    "language_info": {
      "codemirror_mode": {
        "name": "ipython",
        "version": 3
      },
      "file_extension": ".py",
      "mimetype": "text/x-python",
      "name": "python",
      "nbconvert_exporter": "python",
      "pygments_lexer": "ipython3",
      "version": "3.12.5"
    }
  },
  "nbformat": 4,
  "nbformat_minor": 0
}
