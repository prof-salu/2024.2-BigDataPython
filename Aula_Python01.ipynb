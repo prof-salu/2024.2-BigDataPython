{
  "nbformat": 4,
  "nbformat_minor": 0,
  "metadata": {
    "colab": {
      "provenance": []
    },
    "kernelspec": {
      "name": "python3",
      "display_name": "Python 3"
    },
    "language_info": {
      "name": "python"
    }
  },
  "cells": [
    {
      "cell_type": "markdown",
      "source": [
        "\n",
        "\n",
        "*   Entrada e saida;\n",
        "*   Variaveis e tipos de dados;\n",
        "*   Operadores lógicos, aritméticos, relacionais e de atribuição;\n",
        "*   Estruturas de repetição e condição;\n",
        "*   Funções;\n",
        "*   Listas, dicionários e tuplas;\n",
        "\n"
      ],
      "metadata": {
        "id": "3DrwPk_Py3l3"
      }
    },
    {
      "cell_type": "code",
      "execution_count": null,
      "metadata": {
        "id": "lyPA2yFQyZjT"
      },
      "outputs": [],
      "source": [
        "# Comentário em python"
      ]
    },
    {
      "cell_type": "code",
      "source": [
        "#saida de dados\n",
        "\n",
        "print('Olá mundo')\n",
        "print('Aula de python')\n",
        "\n",
        "print('Nome: Salustiano', end=' ')\n",
        "print('Idade: 33')\n",
        "\n",
        "#Concatenando strings\n",
        "print('Curso: Sistemas de Informação' + 'Disciplina: Big Data em Python')\n",
        "print('Curso: Sistemas de Informação', 'Disciplina: Big Data em Python', sep='&')"
      ],
      "metadata": {
        "colab": {
          "base_uri": "https://localhost:8080/"
        },
        "id": "vAqa2mBtzdNL",
        "outputId": "5f876f91-fda3-4b9b-d6f6-7e2fd4604f33"
      },
      "execution_count": null,
      "outputs": [
        {
          "output_type": "stream",
          "name": "stdout",
          "text": [
            "Olá mundo\n",
            "Aula de python\n",
            "Nome: Salustiano Idade: 33\n",
            "Curso: Sistemas de InformaçãoDisciplina: Big Data em Python\n",
            "Curso: Sistemas de Informação&Disciplina: Big Data em Python\n"
          ]
        }
      ]
    },
    {
      "cell_type": "code",
      "source": [
        "#entrada de dados\n",
        "#O tipo de dado padrão do input é STRING\n",
        "float(input('Informe po seu salario: '))"
      ],
      "metadata": {
        "colab": {
          "base_uri": "https://localhost:8080/"
        },
        "id": "VFdCAKbE1X86",
        "outputId": "5c7d3d05-dc62-4fe1-c52d-b523c130d17f"
      },
      "execution_count": null,
      "outputs": [
        {
          "name": "stdout",
          "output_type": "stream",
          "text": [
            "Informe po seu salario: 23232323\n"
          ]
        },
        {
          "output_type": "execute_result",
          "data": {
            "text/plain": [
              "23232323"
            ]
          },
          "metadata": {},
          "execution_count": 16
        }
      ]
    },
    {
      "cell_type": "code",
      "source": [
        "#Variaveis em python\n",
        "#Tipagem dinamica (int, float, str, bool)\n",
        "\n",
        "altura = 1.97 #float [casa decimal com ponto \".\"]\n",
        "numero = 23 #int\n",
        "esta_cursando = True #bool [True | False]\n",
        "disciplina = 'Programação em Python' #string[str]\n",
        "\n",
        "lista = ['juca', 'maria', 'ana'] # List[]\n",
        "print(lista[1])\n",
        "tupla = ('flamengo', 'fluminense', 'vasco', 'botafogo') #tuple()\n",
        "print(tupla[3])\n",
        "dicionario = {'modelo' : 'Uno', 'fabricante': 'Fiat'} #dictionary{}\n",
        "print(dicionario['fabricante'])"
      ],
      "metadata": {
        "id": "dUg76yr416ip"
      },
      "execution_count": null,
      "outputs": []
    },
    {
      "cell_type": "code",
      "source": [
        "#verificando tipos\n",
        "print(type(altura))\n",
        "print(type(numero))\n",
        "print(type(esta_cursando))\n",
        "print(type(disciplina))\n",
        "print(type(lista))\n",
        "print(type(tupla))\n",
        "print(type(dicionario))"
      ],
      "metadata": {
        "id": "spqLj3Zh2lM-"
      },
      "execution_count": null,
      "outputs": []
    },
    {
      "cell_type": "code",
      "source": [
        "#Operadores\n",
        "#atribuicao, logicos, aritmeticos, relacionais\n",
        "\n",
        "#Atribuicao\n",
        "  #Atribuindo o valor 400 a variavel preco\n",
        "preco = 400\n",
        "print(\"Preço:\", preco)\n",
        "preco += 50\n",
        "print(\"Preço:\", preco)"
      ],
      "metadata": {
        "id": "Mfx-dpNG4ltM"
      },
      "execution_count": null,
      "outputs": []
    },
    {
      "cell_type": "code",
      "source": [
        "#Aritmeticos\n",
        "\n",
        "x = 5\n",
        "y = 8\n",
        "\n",
        "somar = x + y\n",
        "subtrair = x - y\n",
        "multiplicacao = x * y\n",
        "divisao_inteira = x // y\n",
        "divisao_real = x / y\n",
        "resto = y % x\n",
        "potenciacao = x ** y\n",
        "\n",
        "print(somar)\n",
        "print(subtrair)\n",
        "print(multiplicacao)\n",
        "print(divisao_inteira)\n",
        "print(divisao_real)\n",
        "print(resto)\n",
        "print(potenciacao)"
      ],
      "metadata": {
        "id": "Nk8rogOr5tpr"
      },
      "execution_count": null,
      "outputs": []
    },
    {
      "cell_type": "code",
      "source": [
        "#relacionais\n",
        "# sempre que utilizamos operadores relacionais o resultado\n",
        "# sera uma expressao logica (True ou False)\n",
        "\n",
        "a = 15\n",
        "b = 20\n",
        "\n",
        "print(a > b) #maior\n",
        "print(a < b) #menor\n",
        "print(a >= b)#maior ou igual\n",
        "print(a <= b)#menor ou igual\n",
        "print(a != b)#diferente\n",
        "print(a == b)#igualdade"
      ],
      "metadata": {
        "colab": {
          "base_uri": "https://localhost:8080/"
        },
        "id": "w1C8QsgM6O1i",
        "outputId": "e5164c19-bd9f-45bb-cb98-d20a550b33c0"
      },
      "execution_count": null,
      "outputs": [
        {
          "output_type": "stream",
          "name": "stdout",
          "text": [
            "False\n",
            "True\n",
            "False\n",
            "True\n",
            "True\n",
            "False\n"
          ]
        }
      ]
    },
    {
      "cell_type": "code",
      "source": [
        "#logicos\n",
        "#and (&&), or (||), not(!)\n",
        "\n",
        "print(2+5 > 5 and 3+1 == 4-1)\n",
        "print(2+5 > 5 or 3+1 == 4-1)\n",
        "print(not False)"
      ],
      "metadata": {
        "id": "lOHhkvIA6w3o"
      },
      "execution_count": null,
      "outputs": []
    },
    {
      "cell_type": "code",
      "source": [
        "#strings\n",
        "texto = 'topicos de big data em python'\n",
        "print(texto)\n",
        "\n",
        "#UPPER (maiusculas)\n",
        "print(texto.upper())\n",
        "\n",
        "#lower (minisculas)\n",
        "print(texto.lower())\n",
        "\n",
        "#capitalize\n",
        "print(texto.capitalize())\n",
        "\n",
        "#split [divide uma string baseada no parametro]\n",
        "print(texto.split(' '))\n",
        "\n",
        "#find [retorna a posicao inicial da string encontrada]\n",
        "print(texto.find('big'))\n",
        "\n",
        "#replace [substitui a string por outra]\n",
        "print(texto.replace('python', 'R'))"
      ],
      "metadata": {
        "id": "2pqASwa27oI1"
      },
      "execution_count": null,
      "outputs": []
    },
    {
      "cell_type": "code",
      "source": [
        "frase = 'O rato roeu a roupa do rei de roma'\n",
        "\n",
        "print(frase[2:6])\n",
        "print(frase[-4:])\n",
        "\n",
        "[print(x.capitalize() + ' ', end='') for x in frase.split(' ')]"
      ],
      "metadata": {
        "id": "0r6KBYdN-M4N"
      },
      "execution_count": null,
      "outputs": []
    },
    {
      "cell_type": "code",
      "source": [
        "#desvios\n",
        "\n",
        "#IF ELIF ELSE\n",
        "idade = int(input('Informe a sua idade: '))\n",
        "\n",
        "if idade > 15 and idade < 18 or idade > 70:\n",
        "  print('Voto opcional')\n",
        "elif idade >= 18 and idade <= 70:\n",
        "  print('Voto obrigatorio')\n",
        "else:\n",
        "  print('Não pode votar')"
      ],
      "metadata": {
        "id": "EfkqJPfvAXLZ"
      },
      "execution_count": null,
      "outputs": []
    },
    {
      "cell_type": "code",
      "source": [
        "#FOR [0..9]\n",
        "for x in range(0, 10):\n",
        "  print(x)"
      ],
      "metadata": {
        "id": "qkc6fK-TBB6A"
      },
      "execution_count": null,
      "outputs": []
    },
    {
      "cell_type": "code",
      "source": [
        "#FOR [0..9]\n",
        "for x in range(0, 10, 2):\n",
        "  print(x)"
      ],
      "metadata": {
        "id": "pN9oQlhbB91Z"
      },
      "execution_count": null,
      "outputs": []
    },
    {
      "cell_type": "code",
      "source": [
        "#FOR [10..1]\n",
        "for x in range(10, 0, -1):\n",
        "  print(x)"
      ],
      "metadata": {
        "id": "JZ20FxmNCOFH"
      },
      "execution_count": null,
      "outputs": []
    },
    {
      "cell_type": "code",
      "source": [
        "#FOR [10..1]\n",
        "for x in reversed (range(0, 10)):\n",
        "  print(x)"
      ],
      "metadata": {
        "id": "ILzM89BVClVL"
      },
      "execution_count": null,
      "outputs": []
    },
    {
      "cell_type": "code",
      "source": [
        "#while\n",
        "numero = 0\n",
        "\n",
        "while numero < 10:\n",
        "  print(numero)\n",
        "  numero +=1"
      ],
      "metadata": {
        "id": "Jj0rNnFBDAbA"
      },
      "execution_count": null,
      "outputs": []
    },
    {
      "cell_type": "code",
      "source": [
        "valor = 1\n",
        "while True:\n",
        "  print(valor, end=' ')\n",
        "  if valor % 100 == 0:\n",
        "    break\n",
        "  valor +=1"
      ],
      "metadata": {
        "id": "MPk4Tj5vDR_f"
      },
      "execution_count": null,
      "outputs": []
    },
    {
      "cell_type": "code",
      "source": [
        "#funções [sub-rotinas]\n",
        "  # sub-rotina sem retorno ==> procedimentos\n",
        "  # sub-rotina com retorno ==> função\n",
        "#CTRL + C CTRV + V [problemas]\n",
        "\n",
        "nome = input('Digite o seu nome: ')\n",
        "for x in range(5):\n",
        "  print(nome)"
      ],
      "metadata": {
        "id": "XWQMfZH7EcD7"
      },
      "execution_count": null,
      "outputs": []
    },
    {
      "cell_type": "code",
      "source": [
        "def captura_nome():\n",
        "  nome = input('Digite o seu nome: ')\n",
        "  for x in range(5):\n",
        "    print(nome)"
      ],
      "metadata": {
        "id": "EWj8yPDQFLRp"
      },
      "execution_count": null,
      "outputs": []
    },
    {
      "cell_type": "code",
      "source": [
        "#Chamando uma função [call]\n",
        "print(captura_nome())"
      ],
      "metadata": {
        "id": "EdymX8kIFcBo"
      },
      "execution_count": null,
      "outputs": []
    },
    {
      "cell_type": "code",
      "source": [
        "def soma_numero_1(x, y):\n",
        "  return x + y"
      ],
      "metadata": {
        "id": "S5kL3q9iFfxY"
      },
      "execution_count": null,
      "outputs": []
    },
    {
      "cell_type": "code",
      "source": [
        "#valor padrão (default)\n",
        "def soma_numero_2(x = 10, y = 25):\n",
        "  return x + y"
      ],
      "metadata": {
        "id": "wBRCFPSxHBLR"
      },
      "execution_count": null,
      "outputs": []
    },
    {
      "cell_type": "code",
      "source": [
        "def imprime_info(curso, disciplina):\n",
        "  print('Curso:', curso)\n",
        "  print('Disciplina:', disciplina)"
      ],
      "metadata": {
        "id": "umLqsIW0HO7v"
      },
      "execution_count": null,
      "outputs": []
    },
    {
      "cell_type": "code",
      "source": [
        "print(soma_numero_1(4, 6))\n",
        "print(soma_numero_2())"
      ],
      "metadata": {
        "id": "nqHPOi8cGbLV"
      },
      "execution_count": null,
      "outputs": []
    },
    {
      "cell_type": "code",
      "source": [
        "imprime_info('ADS', 'Python')"
      ],
      "metadata": {
        "colab": {
          "base_uri": "https://localhost:8080/"
        },
        "id": "BCWFhlKjH1L2",
        "outputId": "15fa695b-e235-40b1-b330-e28a6b875dc4"
      },
      "execution_count": null,
      "outputs": [
        {
          "output_type": "stream",
          "name": "stdout",
          "text": [
            "Curso: ADS\n",
            "Disciplina:  Python\n"
          ]
        }
      ]
    },
    {
      "cell_type": "code",
      "source": [
        "imprime_info(disciplina='Python', curso='ADS')"
      ],
      "metadata": {
        "colab": {
          "base_uri": "https://localhost:8080/"
        },
        "id": "84NBLq1OH1mm",
        "outputId": "d57cfe75-9b24-41e8-e54f-2be851ae84d1"
      },
      "execution_count": null,
      "outputs": [
        {
          "output_type": "stream",
          "name": "stdout",
          "text": [
            "Curso: ADS\n",
            "Disciplina:  Python\n"
          ]
        }
      ]
    },
    {
      "cell_type": "code",
      "source": [
        "#Criar uma função para sortear um numero\n",
        "import random\n",
        "\n",
        "def sorteia(val_min = 1, val_max = 6):\n",
        "  return random.randint(val_min, val_max)"
      ],
      "metadata": {
        "id": "YjO5ZJMeIO8V"
      },
      "execution_count": null,
      "outputs": []
    },
    {
      "cell_type": "code",
      "source": [
        "print(sorteia())"
      ],
      "metadata": {
        "colab": {
          "base_uri": "https://localhost:8080/"
        },
        "id": "dL4bKPGRI00s",
        "outputId": "3f2c3d2d-4751-455e-99a8-192fda30d143"
      },
      "execution_count": null,
      "outputs": [
        {
          "output_type": "stream",
          "name": "stdout",
          "text": [
            "3\n"
          ]
        }
      ]
    },
    {
      "cell_type": "code",
      "source": [
        "print(sorteia(1, 20))"
      ],
      "metadata": {
        "colab": {
          "base_uri": "https://localhost:8080/"
        },
        "id": "gF4YpwNBI5nb",
        "outputId": "e7ac7428-6b21-4156-c86d-ffc12285b2e9"
      },
      "execution_count": null,
      "outputs": [
        {
          "output_type": "stream",
          "name": "stdout",
          "text": [
            "17\n"
          ]
        }
      ]
    }
  ]
}